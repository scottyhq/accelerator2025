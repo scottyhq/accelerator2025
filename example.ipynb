{
 "cells": [
  {
   "cell_type": "code",
   "execution_count": 1,
   "id": "2e0a9a2d-f365-4509-9111-4842d4b513a0",
   "metadata": {},
   "outputs": [],
   "source": [
    "import xarray as xr"
   ]
  },
  {
   "cell_type": "code",
   "execution_count": 2,
   "id": "690153dd-9467-440d-a58a-4852c698e7cc",
   "metadata": {},
   "outputs": [
    {
     "name": "stdout",
     "output_type": "stream",
     "text": [
      "\n",
      "INSTALLED VERSIONS\n",
      "------------------\n",
      "commit: None\n",
      "python: 3.12.8 | packaged by conda-forge | (main, Dec  5 2024, 14:24:40) [GCC 13.3.0]\n",
      "python-bits: 64\n",
      "OS: Linux\n",
      "OS-release: 5.14.21-150400.24.46-default\n",
      "machine: x86_64\n",
      "processor: x86_64\n",
      "byteorder: little\n",
      "LC_ALL: en_US.UTF-8\n",
      "LANG: en_US.UTF-8\n",
      "LOCALE: ('en_US', 'UTF-8')\n",
      "libhdf5: None\n",
      "libnetcdf: None\n",
      "\n",
      "xarray: 2025.1.2\n",
      "pandas: 2.2.3\n",
      "numpy: 2.1.3\n",
      "scipy: 1.15.1\n",
      "netCDF4: None\n",
      "pydap: None\n",
      "h5netcdf: None\n",
      "h5py: None\n",
      "zarr: None\n",
      "cftime: None\n",
      "nc_time_axis: None\n",
      "iris: None\n",
      "bottleneck: None\n",
      "dask: 2025.1.0\n",
      "distributed: 2025.1.0\n",
      "matplotlib: None\n",
      "cartopy: None\n",
      "seaborn: None\n",
      "numbagg: 0.9.0\n",
      "fsspec: 2025.2.0\n",
      "cupy: None\n",
      "pint: None\n",
      "sparse: None\n",
      "flox: 0.10.0\n",
      "numpy_groupies: 0.11.2\n",
      "setuptools: None\n",
      "pip: None\n",
      "conda: None\n",
      "pytest: None\n",
      "mypy: None\n",
      "IPython: 8.32.0\n",
      "sphinx: None\n"
     ]
    }
   ],
   "source": [
    "xr.show_versions()"
   ]
  },
  {
   "cell_type": "code",
   "execution_count": null,
   "id": "ec680c72-b991-45ee-ac3f-5139dc89f97e",
   "metadata": {},
   "outputs": [],
   "source": []
  }
 ],
 "metadata": {
  "kernelspec": {
   "display_name": "accelerator2025",
   "language": "python",
   "name": "accelerator2025"
  },
  "language_info": {
   "codemirror_mode": {
    "name": "ipython",
    "version": 3
   },
   "file_extension": ".py",
   "mimetype": "text/x-python",
   "name": "python",
   "nbconvert_exporter": "python",
   "pygments_lexer": "ipython3",
   "version": "3.12.8"
  }
 },
 "nbformat": 4,
 "nbformat_minor": 5
}
